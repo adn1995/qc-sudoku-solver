{
 "cells": [
  {
   "cell_type": "markdown",
   "id": "95378421",
   "metadata": {},
   "source": [
    "# Quantum Sudoku Solver\n",
    "\n",
    "#TODO description of project...?"
   ]
  },
  {
   "cell_type": "code",
   "execution_count": 1,
   "id": "46992811",
   "metadata": {},
   "outputs": [],
   "source": [
    "from qiskit.circuit import QuantumCircuit, QuantumRegister, AncillaRegister, Parameter\n",
    "from qiskit.quantum_info import Statevector, Operator\n",
    "import pylatexenc\n",
    "\n",
    "import matplotlib.pyplot as plt\n",
    "\n",
    "import numpy as np"
   ]
  },
  {
   "cell_type": "markdown",
   "id": "d6003882",
   "metadata": {},
   "source": [
    "## Representing a sudoku puzzle.\n",
    "\n",
    "For now, we will assume that the input is a $4 \\times 4$ sudoku puzzle with a unique solution.\n",
    "\n",
    "The sudoku puzzle may be initially represented as a $4 \\times 4$ matrix or 2D array, but to deal with empty cells, I decided to represent the puzzle (in any state of incompletion) as a dictionary, where the keys are tuples (representing the coordinates of a cell) and the value associated with a key is a set of possible values that the cell can take, absent the rules of sudoku.\n",
    "\n",
    "### Example\n",
    "\n",
    "Suppose we are given the following sudoku puzzle.\n",
    "\n",
    "```\n",
    "2 0 3 1\n",
    "1 * * 0\n",
    "0 * * *\n",
    "3 * * 2\n",
    "```\n",
    "\n",
    "We can think of the puzzle as a matrix $(a_{ij})$. (Let's use 0-based indexing.)\n",
    "The dictionary representing this puzzle would be written as follows.\n"
   ]
  },
  {
   "cell_type": "code",
   "execution_count": 2,
   "id": "eea785bd",
   "metadata": {},
   "outputs": [
    {
     "data": {
      "text/plain": [
       "{(0, 0): {2},\n",
       " (0, 1): {0},\n",
       " (0, 2): {3},\n",
       " (0, 3): {1},\n",
       " (1, 0): {1},\n",
       " (1, 1): {0, 1, 2, 3},\n",
       " (1, 2): {0, 1, 2, 3},\n",
       " (1, 3): {0},\n",
       " (2, 0): {0},\n",
       " (2, 1): {0, 1, 2, 3},\n",
       " (2, 2): {0, 1, 2, 3},\n",
       " (2, 3): {0, 1, 2, 3},\n",
       " (3, 0): {3},\n",
       " (3, 1): {0, 1, 2, 3},\n",
       " (3, 2): {0, 1, 2, 3},\n",
       " (3, 3): {2}}"
      ]
     },
     "execution_count": 2,
     "metadata": {},
     "output_type": "execute_result"
    }
   ],
   "source": [
    "puzzle_dict_example = {\n",
    "    (0,0) : {2},\n",
    "    (0,1): {0},\n",
    "    (0,2): {3},\n",
    "    (0,3): {1},\n",
    "    (1,0): {1},\n",
    "    (1,1): {0,1,2,3},\n",
    "    (1,2): {0,1,2,3},\n",
    "    (1,3): {0},\n",
    "    (2,0): {0},\n",
    "    (2,1): {0,1,2,3},\n",
    "    (2,2): {0,1,2,3},\n",
    "    (2,3): {0,1,2,3},\n",
    "    (3,0): {3},\n",
    "    (3,1): {0,1,2,3},\n",
    "    (3,2): {0,1,2,3},\n",
    "    (3,3): {2}\n",
    "}\n",
    "\n",
    "puzzle_dict_example"
   ]
  },
  {
   "cell_type": "markdown",
   "id": "5ca52f66",
   "metadata": {},
   "source": [
    "In the above example, the cell indexed by $(0,0)$ has the value $2$, so in its dictionary representation, the value assigned to the key $(0,0)$ is the set $\\{2\\}$.\n",
    "In contrast, the cell indexed by $(1,2)$ is empty, so before applying any sudoku rules, we naively assume that all values are possible. Thus, the value assigned to the key $(1,2)$ is the set $\\{0,1,2,3\\}$."
   ]
  },
  {
   "cell_type": "markdown",
   "id": "f7d3af07",
   "metadata": {},
   "source": [
    "## Qubit representation\n",
    "\n",
    "To solve this sudoku with Grover's algorithm, we need to represent the puzzle in qubits.\n",
    "\n",
    "In a $4 \\times 4$ puzzle, we require two bits to represent the possible values $\\{0,1,2,3\\}$ in binary, so if the puzzle has $k$ empty cells, then we need $2k$ qubits to represent these $k$ empty cells.\n",
    "\n",
    "In our dictionary representation of the puzzle, we can detect that a cell is empty when the corresponding value is not a singleton.\n",
    "We will store the empty cells in an ordered data structure, since we need to keep track of the order of the qubits."
   ]
  },
  {
   "cell_type": "code",
   "execution_count": 5,
   "id": "efb9949b",
   "metadata": {},
   "outputs": [
    {
     "data": {
      "text/plain": [
       "((1, 1), (1, 2), (2, 1), (2, 2), (2, 3), (3, 1), (3, 2))"
      ]
     },
     "execution_count": 5,
     "metadata": {},
     "output_type": "execute_result"
    }
   ],
   "source": [
    "empty_cells_list_example = list()\n",
    "for key in puzzle_dict_example.keys():\n",
    "    if len(puzzle_dict_example.get(key)) > 1:\n",
    "        empty_cells_list_example.append(key)\n",
    "\n",
    "empty_cells_tuple_example = tuple(empty_cells_list_example)\n",
    "empty_cells_tuple_example"
   ]
  },
  {
   "cell_type": "code",
   "execution_count": 7,
   "id": "f682088d",
   "metadata": {},
   "outputs": [],
   "source": [
    "#quantum_register_example = QuantumRegister(size=2*len(empty_cells_tuple_example), name=\"x\")\n",
    "\n",
    "#quantum_circuit_example = QuantumCircuit(quantum_register_example, name=r\"example circuit\")\n",
    "\n",
    "#quantum_circuit_example.draw(output=\"mpl\")"
   ]
  },
  {
   "cell_type": "markdown",
   "id": "c74cd5b9",
   "metadata": {},
   "source": [
    "In the example puzzle above, there are 7 empty cells, so we need 14 qubits $x_0, x_1, \\dots, x_{13}$.\n",
    "For the $j$-th element of `empty_cells_tuple_example$, the qubit $x_{2j}$ represents the least significant bit of the value that will be assigned to this empty cell, and the qubit $x_{2j+1}$ represents the next significant bit.\n",
    "\n",
    "For example, consider `empty_cells_tuple_example[2]`, which is the cell indexed by $(2,1)$.\n",
    "The value that will be assigned to this cell has the binary representation $x_5 x_4$, i.e. the value can be written as $2^1 x_5 + 2^0 x_4$."
   ]
  },
  {
   "cell_type": "markdown",
   "id": "c7ade09a",
   "metadata": {},
   "source": [
    "# Grover's algorithm for $4 \\times 4$ sudoku puzzles\n",
    "\n",
    "Suppose we are given a $4 \\times 4$ sudoku puzzle with a unique solution, represented in the same way as the above example.\n",
    "We want to construct a quantum circuit that implements Grover's algorithm, where the marker oracle checks whether or not the rules of sudoku are violated.\n"
   ]
  },
  {
   "cell_type": "markdown",
   "id": "dddc7951",
   "metadata": {},
   "source": [
    "### Helper functions\n",
    "\n",
    "#TODO"
   ]
  },
  {
   "cell_type": "code",
   "execution_count": null,
   "id": "70cfc447",
   "metadata": {},
   "outputs": [],
   "source": [
    "# def get_empty(puzzle):\n",
    "    # TODO\n",
    "    # return empty_cells"
   ]
  },
  {
   "cell_type": "code",
   "execution_count": null,
   "id": "f7e34cf9",
   "metadata": {},
   "outputs": [],
   "source": [
    "# def get_rules(puzzle):\n",
    "    # TODO\n",
    "    # return rules"
   ]
  },
  {
   "cell_type": "code",
   "execution_count": null,
   "id": "02f6d04a",
   "metadata": {},
   "outputs": [],
   "source": [
    "# def get_measurement(quantum_circuit):\n",
    "    #TODO output distribution\n",
    "    #TODO most likely outcome\n",
    "    #TODO convert to bit string as tuple\n",
    "    # return bin_rep"
   ]
  },
  {
   "cell_type": "markdown",
   "id": "10cfdc0d",
   "metadata": {},
   "source": [
    "### Marker oracle\n",
    "\n",
    "#TODO"
   ]
  },
  {
   "cell_type": "code",
   "execution_count": null,
   "id": "a3d2e9af",
   "metadata": {},
   "outputs": [],
   "source": [
    "# Marker oracle\n",
    "\n",
    "# def marker_oracle(empty_cells, rules):\n",
    "    # quantum_register = \n",
    "    # rules_ancilla = \n",
    "    # oracle_circuit = \n",
    "    # TODO work\n",
    "    # return oracle_circuit.to_gate()"
   ]
  },
  {
   "cell_type": "markdown",
   "id": "516ba560",
   "metadata": {},
   "source": [
    "### Grover diffuser\n",
    "\n",
    "#TODO"
   ]
  },
  {
   "cell_type": "code",
   "execution_count": null,
   "id": "ffe23489",
   "metadata": {},
   "outputs": [],
   "source": [
    "# Grover diffuser\n",
    "\n",
    "# def grover_diffuser(n):\n",
    "    # TODO\n",
    "    # diffuser_circuit =\n",
    "    #return diffuser_circuit.to_gate()"
   ]
  },
  {
   "cell_type": "markdown",
   "id": "37ce1321",
   "metadata": {},
   "source": [
    "### Grover iteration\n",
    "\n",
    "#TODO"
   ]
  },
  {
   "cell_type": "code",
   "execution_count": null,
   "id": "bf325909",
   "metadata": {},
   "outputs": [],
   "source": [
    "# Grover iteration\n",
    "\n",
    "# def grover_iteration(empty_cells, rules):\n",
    "    # size = 2*len(empty_cells)\n",
    "    # quantum_register =\n",
    "    # iteration_circuit =\n",
    "    # iteration_circuit.compose(marker_oracle(empty_cells, rules), inplace=True)\n",
    "    # iteration_circuit.compose(grover_diffuser(size), qubits=quantum_register, inplace=True)\n",
    "    # return iteration_circuit.to_gate()"
   ]
  },
  {
   "cell_type": "markdown",
   "id": "2d4c08cc",
   "metadata": {},
   "source": [
    "### Finally, the Grover circuit\n",
    "\n",
    "#TODO"
   ]
  },
  {
   "cell_type": "code",
   "execution_count": null,
   "id": "a7bdd7a4",
   "metadata": {},
   "outputs": [],
   "source": [
    "# Grover circuit\n",
    "\n",
    "# def grover(empty_cells, rules):\n",
    "    # quantum_register = \n",
    "    # ancilla register =\n",
    "    # grover_circuit =\n",
    "    # grover_circuit.h(quantum_register)\n",
    "    # n = 2 * len(empty_cells)\n",
    "    # R = np.ceil(np.pi * sqrt(2**n) / 4)\n",
    "    # for i in range(R):\n",
    "        # grover_circuit.compose(grover_iteration(empty_cells, rules),\n",
    "                               # inplace=True)\n",
    "    # return grover_circuit\n"
   ]
  },
  {
   "cell_type": "code",
   "execution_count": null,
   "id": "6af2e6fc",
   "metadata": {},
   "outputs": [],
   "source": [
    "#TODO look at output distribution"
   ]
  },
  {
   "cell_type": "markdown",
   "id": "443a529b",
   "metadata": {},
   "source": [
    "### Putting it all together\n",
    "\n",
    "#TODO let's finally solve the sudoku"
   ]
  },
  {
   "cell_type": "code",
   "execution_count": null,
   "id": "a3df8465",
   "metadata": {},
   "outputs": [],
   "source": [
    "# def qc_solve(puzzle):\n",
    "    # empty_cells = get_empty(puzzle)\n",
    "    # rules = get_rules(puzzle)\n",
    "    # grover_circuit = grover(empty_cells, rules)\n",
    "    # bin_rep = qubits_to_binary(grover_circuit) # tuple\n",
    "    # dec_rep = #TODO convert back to decimal\n",
    "    # filled_cells = {empty_cells[i]: dec_rep[i] for i in range(len(empty_cells))}\n",
    "    # puzzle.update(filled_cells)\n",
    "    # return puzzle"
   ]
  },
  {
   "cell_type": "markdown",
   "id": "595a070d",
   "metadata": {},
   "source": [
    "## Testing on random puzzles\n",
    "\n",
    "#TODO "
   ]
  },
  {
   "cell_type": "code",
   "execution_count": null,
   "id": "b327e8cc",
   "metadata": {},
   "outputs": [],
   "source": [
    "#TODO generate random puzzle"
   ]
  },
  {
   "cell_type": "code",
   "execution_count": null,
   "id": "c07b4dd9",
   "metadata": {},
   "outputs": [],
   "source": [
    "#TODO test qc_solve"
   ]
  }
 ],
 "metadata": {
  "kernelspec": {
   "display_name": "qc-sudoku-solver-env",
   "language": "python",
   "name": "python3"
  },
  "language_info": {
   "codemirror_mode": {
    "name": "ipython",
    "version": 3
   },
   "file_extension": ".py",
   "mimetype": "text/x-python",
   "name": "python",
   "nbconvert_exporter": "python",
   "pygments_lexer": "ipython3",
   "version": "3.13.3"
  }
 },
 "nbformat": 4,
 "nbformat_minor": 5
}
